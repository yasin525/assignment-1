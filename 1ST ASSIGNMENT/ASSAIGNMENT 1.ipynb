{
 "cells": [
  {
   "cell_type": "code",
   "execution_count": 17,
   "id": "4adc048a",
   "metadata": {},
   "outputs": [
    {
     "name": "stdout",
     "output_type": "stream",
     "text": [
      "print Current date and time:  2022-01-01 03:59:46.630821\n"
     ]
    }
   ],
   "source": [
    "#1.write a python program to display the current date and time.\n",
    "\n",
    "import datetime\n",
    "print(\"print Current date and time: \", datetime.datetime.now());\n",
    "\n"
   ]
  },
  {
   "cell_type": "code",
   "execution_count": 13,
   "id": "08501b09",
   "metadata": {},
   "outputs": [
    {
     "name": "stdout",
     "output_type": "stream",
     "text": [
      "Python version : 3.9.7 (default, Sep 16 2021, 16:59:28) [MSC v.1916 64 bit (AMD64)]\n"
     ]
    }
   ],
   "source": [
    "#2 write a phython program to get the phython version you are using.\n",
    "\n",
    "import sys\n",
    "print(\"Python version : \"+sys.version);\n"
   ]
  },
  {
   "cell_type": "code",
   "execution_count": 12,
   "id": "e6cf61b2",
   "metadata": {},
   "outputs": [
    {
     "name": "stdout",
     "output_type": "stream",
     "text": [
      "Enter your number: 7\n",
      "Enter your number: 6\n",
      "13\n"
     ]
    }
   ],
   "source": [
    "#3 write a python program which take two input from user and print them addition.\n",
    "\n",
    "# This program adds two numbers\n",
    "\n",
    "a = int(input(\"Enter your number: \"));\n",
    "b = int(input(\"Enter your number: \"));\n",
    "c = a + b;\n",
    "print (c);"
   ]
  },
  {
   "cell_type": "code",
   "execution_count": 3,
   "id": "abefad4b",
   "metadata": {},
   "outputs": [
    {
     "name": "stdout",
     "output_type": "stream",
     "text": [
      "Input your First Name : Asghar\n",
      "Input your Last Name : Yaseen\n",
      "Hello  Yaseen Asghar\n"
     ]
    }
   ],
   "source": [
    "#4 write a python program which accept the user first and last name and print theh in reverse order with a space between them.\n",
    "\n",
    "fname = input(\"Input your First Name : \")\n",
    "lname = input(\"Input your Last Name : \")\n",
    "print (\"Hello  \" + lname + \" \" + fname)"
   ]
  },
  {
   "cell_type": "code",
   "execution_count": 19,
   "id": "3f62e7bb",
   "metadata": {},
   "outputs": [
    {
     "name": "stdout",
     "output_type": "stream",
     "text": [
      "Enter your number: 1\n",
      "Your radius is : 32.23\n"
     ]
    }
   ],
   "source": [
    "#5 write a python program which accept the radius of a circle from the user and complete the area.\n",
    "\n",
    "b = 32.23;\n",
    "r = int(input(\"Enter your number: \"));\n",
    "a = b*r*r;\n",
    "print(\"Your radius is :\",a);\n"
   ]
  },
  {
   "cell_type": "code",
   "execution_count": 10,
   "id": "8c04492c",
   "metadata": {},
   "outputs": [
    {
     "name": "stdout",
     "output_type": "stream",
     "text": [
      "Twinkle,twinkle,little star, \n",
      "        How I wonder what you are! \n",
      "                Up above the world so high, \n",
      "                Like a diamond in the sky. \n",
      "Twinkle, twinkle, little star, \n",
      "          How I wonder what you are!\n"
     ]
    }
   ],
   "source": [
    "#6 write a python program to print the following string in a specific format (see the output).\n",
    "\n",
    "print(\"Twinkle,twinkle,little star, \\n        How I wonder what you are! \\n                Up above the world so high, \\n                Like a diamond in the sky. \\nTwinkle, twinkle, little star, \\n          How I wonder what you are!\")\n"
   ]
  },
  {
   "cell_type": "code",
   "execution_count": null,
   "id": "4d24b5cb",
   "metadata": {},
   "outputs": [],
   "source": []
  }
 ],
 "metadata": {
  "kernelspec": {
   "display_name": "Python 3 (ipykernel)",
   "language": "python",
   "name": "python3"
  },
  "language_info": {
   "codemirror_mode": {
    "name": "ipython",
    "version": 3
   },
   "file_extension": ".py",
   "mimetype": "text/x-python",
   "name": "python",
   "nbconvert_exporter": "python",
   "pygments_lexer": "ipython3",
   "version": "3.9.7"
  }
 },
 "nbformat": 4,
 "nbformat_minor": 5
}
